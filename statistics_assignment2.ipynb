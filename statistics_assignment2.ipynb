{
  "nbformat": 4,
  "nbformat_minor": 0,
  "metadata": {
    "colab": {
      "provenance": []
    },
    "kernelspec": {
      "name": "python3",
      "display_name": "Python 3"
    },
    "language_info": {
      "name": "python"
    }
  },
  "cells": [
    {
      "cell_type": "code",
      "source": [
        "import numpy as np\n",
        "import pandas as pd\n",
        "from scipy import stats"
      ],
      "metadata": {
        "id": "4CaoJjtcIJNI"
      },
      "execution_count": null,
      "outputs": []
    },
    {
      "cell_type": "markdown",
      "source": [
        "1Q"
      ],
      "metadata": {
        "id": "5Y9CBRmgK0_D"
      }
    },
    {
      "cell_type": "code",
      "source": [
        "import numpy as np\n",
        "import statsmodels.stats.api as sms\n",
        "\n",
        "\n",
        "# Effect size\n",
        "effect_size = 2\n",
        "\n",
        "# Significance level (alpha)\n",
        "alpha = 0.05\n",
        "\n",
        "# Desired power\n",
        "power = 0.95\n",
        "\n",
        "# Calculate the minimum sample size\n",
        "n=sms.tt_ind_solve_power(effect_size=effect_size, nobs1=None, alpha=alpha, power=power, ratio=1.0, alternative='two-sided')\n",
        "\n",
        "print(\"Minimum sample size:\", n)\n"
      ],
      "metadata": {
        "colab": {
          "base_uri": "https://localhost:8080/"
        },
        "id": "Sl9nn3T-AqqA",
        "outputId": "807e1011-742c-4be4-e7d2-c52400c18078"
      },
      "execution_count": null,
      "outputs": [
        {
          "output_type": "stream",
          "name": "stdout",
          "text": [
            "Minimum sample size: 7.60895791594358\n"
          ]
        }
      ]
    },
    {
      "cell_type": "code",
      "source": [
        "alpha_new = 0.01\n",
        "\n",
        "# Calculate the sample size for the new alpha\n",
        "n_new = sms.tt_ind_solve_power(effect_size=effect_size, nobs1=None, alpha=alpha_new, power=power, ratio=1.0, alternative='two-sided')\n",
        "\n",
        "print(\"Sample size for alpha = 0.01:\", n_new)\n",
        "\n"
      ],
      "metadata": {
        "colab": {
          "base_uri": "https://localhost:8080/"
        },
        "id": "peynFT_KA0HK",
        "outputId": "93daeb57-2708-46a8-9a7f-70d5007df44e"
      },
      "execution_count": null,
      "outputs": [
        {
          "output_type": "stream",
          "name": "stdout",
          "text": [
            "Sample size for alpha = 0.01: 10.710971202419103\n"
          ]
        }
      ]
    },
    {
      "cell_type": "code",
      "source": [
        "power_new = 0.99\n",
        "\n",
        "# Calculate the sample size for the new power\n",
        "n_power = sms.tt_ind_solve_power(effect_size=effect_size, nobs1=None, alpha=alpha, power=power_new, ratio=1.0, alternative='two-sided')\n",
        "print(\"Sample size for power = 0.99:\", n_power)\n"
      ],
      "metadata": {
        "colab": {
          "base_uri": "https://localhost:8080/"
        },
        "id": "9h17imfEA6PV",
        "outputId": "b7762807-8600-4572-84ce-1c2512f04f42"
      },
      "execution_count": null,
      "outputs": [
        {
          "output_type": "stream",
          "name": "stdout",
          "text": [
            "Sample size for power = 0.99: 10.267583224566895\n"
          ]
        }
      ]
    },
    {
      "cell_type": "code",
      "source": [
        "n = 5\n",
        "\n",
        "# Calculate the smallest detectable difference\n",
        "detectable_difference = sms.tt_ind_solve_power(effect_size=None, nobs1=n, alpha=alpha, power=power_new, ratio=1.0, alternative='two-sided')\n",
        "print(\"Smallest difference, |μc − μd| =\", detectable_difference*10)"
      ],
      "metadata": {
        "colab": {
          "base_uri": "https://localhost:8080/"
        },
        "id": "aS3zps3YA_99",
        "outputId": "7a6e755d-d5bf-42ed-d933-c49f747a2417"
      },
      "execution_count": null,
      "outputs": [
        {
          "output_type": "stream",
          "name": "stdout",
          "text": [
            "Smallest difference, |μc − μd| = 31.22095933284507\n"
          ]
        }
      ]
    },
    {
      "cell_type": "code",
      "source": [
        "desired_difference = 2\n",
        "\n",
        "# Calculate the probability of detecting the desired difference\n",
        "power_for_desired_difference = sms.tt_ind_solve_power(effect_size=desired_difference, nobs1=n, alpha=alpha, power=None, ratio=1.0, alternative='two-sided')\n",
        "print(\"Probability of detecting a difference =\", power_for_desired_difference)\n"
      ],
      "metadata": {
        "colab": {
          "base_uri": "https://localhost:8080/"
        },
        "id": "D_iZWXq2BEBU",
        "outputId": "c65f2aa3-6c9c-45c1-c1c1-45189b15450c"
      },
      "execution_count": null,
      "outputs": [
        {
          "output_type": "stream",
          "name": "stdout",
          "text": [
            "Probability of detecting a difference = 0.790542363607261\n"
          ]
        }
      ]
    },
    {
      "cell_type": "markdown",
      "source": [
        "2Q"
      ],
      "metadata": {
        "id": "NIVYfQHjB7e_"
      }
    },
    {
      "cell_type": "code",
      "source": [
        "desired_difference = 2\n",
        "n_new=3\n",
        "# Calculate the probability of detecting the desired difference\n",
        "power_for_desired_difference = sms.tt_ind_solve_power(effect_size=desired_difference, nobs1=n_new, alpha=alpha, power=None, ratio=1.0, alternative='two-sided')\n",
        "print(\"n=3 then Power value =\", power_for_desired_difference)\n"
      ],
      "metadata": {
        "colab": {
          "base_uri": "https://localhost:8080/"
        },
        "id": "S2PzqWW5B9dD",
        "outputId": "6651604a-df30-4453-82c5-c08d1ccb8eab"
      },
      "execution_count": null,
      "outputs": [
        {
          "output_type": "stream",
          "name": "stdout",
          "text": [
            "n=3 then Power value = 0.46264080923120443\n"
          ]
        }
      ]
    },
    {
      "cell_type": "code",
      "source": [
        "without_delivery=np.array([138,155,121])\n",
        "with_delivery=np.array([121,142,131])\n",
        "# Set the significance level\n",
        "alpha = 0.05\n",
        "print(stats.ttest_ind(without_delivery, with_delivery, equal_var=True))\n",
        "# Perform the two-sample t-test\n",
        "t_stat, p_value = stats.ttest_ind(without_delivery, with_delivery)\n",
        "\n",
        "# Check if the p-value is less than the significance level\n",
        "if p_value < alpha:\n",
        "    print(f\"The P value = {p_value} < α = 0.05. So Null hypotheses rejected.\\nThe delivery mechanism works in this experiment.\")\n",
        "else:\n",
        "    print(f\"The P value = {p_value} > α = 0.05. So Null hypotheses can not be rejected.\\nThe delivery mechanism not works in this experiment.\")\n"
      ],
      "metadata": {
        "colab": {
          "base_uri": "https://localhost:8080/"
        },
        "id": "PANH9oqmCKDK",
        "outputId": "ea4656d3-3a3a-4791-ded1-6c56001fabbe"
      },
      "execution_count": null,
      "outputs": [
        {
          "output_type": "stream",
          "name": "stdout",
          "text": [
            "Ttest_indResult(statistic=0.5778319966569868, pvalue=0.5943464395237137)\n",
            "The P value = 0.5943464395237137 > α = 0.05. So Null hypotheses can not be rejected.\n",
            "The delivery mechanism not works in this experiment.\n"
          ]
        }
      ]
    },
    {
      "cell_type": "markdown",
      "source": [
        "\n",
        "\n",
        "\n",
        "\n",
        "\n",
        "\n",
        "\n",
        "\n",
        "\n",
        "\n",
        "\n",
        "\n",
        "\n",
        "\n",
        "\n",
        "\n",
        "\n",
        "\n",
        "\n",
        "\n",
        "\n",
        "\n",
        "\n",
        "\n",
        "3. A species of marine arthropod lives in seawater that contains calcium in a concentration of 32 mmole/kg of wa-\n",
        "ter. Thirteen of the animals are collected and the calcium concentrations in their coelomic fluid are found to be:\n",
        "28, 27, 29, 29, 30, 30, 31, 30, 33, 27, 30, 32, and 31 mmole/kg.\n",
        "\n",
        "\n",
        "(a) State the null and alternate hypotheses if you are tasked to test whether members of this species maintain a\n",
        "coelomic calcium concentration same as that of their environment. (2)\n",
        "\n",
        "(b) Perform the test using R to conclude if H0 can be rejected. (5)\n",
        "\n",
        "(c) Write down the null and alternate hypotheses if you seek to test the claim that this species maintains a coelomic\n",
        "calcium level less than that of their environment. (2)\n",
        "\n",
        "(d) Perform the test using R . (5)"
      ],
      "metadata": {
        "id": "ubEEFRK9jivL"
      }
    },
    {
      "cell_type": "code",
      "source": [
        "#Calcium concentration in seawater μo\n",
        "\n",
        "# The average value of the sample of calcium concentration in animals μa\n",
        "\n",
        "\n",
        "#Null hypotheses H0: μo = μa\n",
        "\n",
        "#Alternative hypotheses Ha: μo ≠ μa"
      ],
      "metadata": {
        "id": "EWz1Svf2QYMu"
      },
      "execution_count": null,
      "outputs": []
    },
    {
      "cell_type": "code",
      "source": [
        "data=np.array([28, 27, 29, 29, 30, 30, 31, 30, 33, 27, 30, 32,31])\n",
        "population_mean = 32\n",
        "print(stats.ttest_1samp(data,population_mean))\n",
        "t_stat, p_value = stats.ttest_1samp(data, population_mean)\n",
        "if p_value < 0.05:\n",
        "    print(f\"The P value is ={p_value} < 0.05. So H0 can be rejected.\")\n",
        "else:\n",
        "    print(f\"The P value is ={p_value} > 0.05. So H0 can not be rejected.\")\n"
      ],
      "metadata": {
        "colab": {
          "base_uri": "https://localhost:8080/"
        },
        "id": "tpXskXNfjpcH",
        "outputId": "f8f9a32e-ac21-424d-f5a0-4af617ec9c3a"
      },
      "execution_count": null,
      "outputs": [
        {
          "output_type": "stream",
          "name": "stdout",
          "text": [
            "TtestResult(statistic=-4.501673049096729, pvalue=0.0007245394934862643, df=12)\n",
            "The P value is =0.0007245394934862643 < 0.05. So H0 can be rejected.\n"
          ]
        }
      ]
    },
    {
      "cell_type": "code",
      "source": [
        "#Calcium concentration in seawater μo\n",
        "# The average value of the sample of calcium concentration in animals μa\n",
        "# Null hypotheses H0: μo > μa\n",
        "# Alternative hypotheses Ha: μo < μa"
      ],
      "metadata": {
        "id": "52QnPCMYQnx-"
      },
      "execution_count": null,
      "outputs": []
    },
    {
      "cell_type": "code",
      "source": [
        "print(stats.ttest_1samp(data, population_mean, alternative='greater'))\n",
        "t_stat, p_value = stats.ttest_1samp(data, population_mean, alternative='greater')\n",
        "if p_value < 0.05:\n",
        "    print(f\"The P value is ={p_value} < 0.05. So H0 can be rejected. The species maintains a coelomic calcium level greater than that of their environment.\")\n",
        "else:\n",
        "    print(f\"The P value is ={p_value} > 0.05. So H0 cannot be rejected. The species maintains a coelomic calcium levelless than that of their environment\")\n"
      ],
      "metadata": {
        "colab": {
          "base_uri": "https://localhost:8080/"
        },
        "id": "boXe21Lik_IS",
        "outputId": "5bd0b092-776e-4f58-e5aa-7cef8b3c091e"
      },
      "execution_count": null,
      "outputs": [
        {
          "output_type": "stream",
          "name": "stdout",
          "text": [
            "TtestResult(statistic=-4.501673049096729, pvalue=0.9996377302532569, df=12)\n",
            "The P value is =0.9996377302532569 > 0.05. So H0 cannot be rejected. The species maintains a coelomic calcium levelless than that of their environment\n"
          ]
        }
      ]
    },
    {
      "cell_type": "markdown",
      "source": [
        "4)Using the data in the following table, you seek to test if male and female turtles have the same mean serum cholesterol\n",
        "concentrations.\n",
        "\n",
        "(a) State the null and alternate hypotheses. (2)\n",
        "\n",
        "(b) Are data normally distributed? (5)\n",
        "\n",
        "(c) Which test are you going to perform? Justify your answer. (5)\n",
        "\n",
        "(d) Perform the test using R and report the outcome. (4)\n",
        "\n",
        "Male\n",
        "220.1\n",
        "218.6\n",
        "229.6\n",
        "228.8\n",
        "222.0\n",
        "224.1\n",
        "226.5\n",
        "\n",
        "Female\n",
        "223.4\n",
        "221.5\n",
        "230.2\n",
        "224.3\n",
        "223.8\n",
        "230.8"
      ],
      "metadata": {
        "id": "eSMt3j9aKukf"
      }
    },
    {
      "cell_type": "code",
      "source": [
        "male=np.array([220.1,218.6,229.6,228.8,222.0,224.1,226.5])\n",
        "female=np.array([223.4,221.5,230.2,224.3,223.8,230.8])"
      ],
      "metadata": {
        "id": "RpQDhxcqJoMX"
      },
      "execution_count": null,
      "outputs": []
    },
    {
      "cell_type": "markdown",
      "source": [
        "A)\n",
        "\n",
        "Null Hypothesis (H 0): The mean serum cholesterol concentration for male turtles (μ 1) is equal to the mean serum cholesterol concentration for female turtles (μ 2). In mathematical terms,\n",
        "\n",
        "\n",
        "H0:μ1=μ2.\n",
        "\n",
        "Alternate Hypothesis (H1): The mean serum cholesterol concentration for male turtles is not equal to the mean serum cholesterol concentration for female turtles . In mathematical terms,\n",
        "\n",
        "\n",
        "H1:μ1≠μ2."
      ],
      "metadata": {
        "id": "p4sgmzZvISXM"
      }
    },
    {
      "cell_type": "code",
      "source": [
        "#A)\n",
        "\"\"\" The average value of the sample of Serum cholesterol concentrations in male μm\n",
        "The average value of the sample of Serum cholesterol concentrations in female μf\n",
        " Null hypotheses H0: μm = μf\n",
        " Alternative hypotheses Ha: μm ≠ μf\"\"\""
      ],
      "metadata": {
        "colab": {
          "base_uri": "https://localhost:8080/",
          "height": 53
        },
        "id": "INOcpw_mQ6mW",
        "outputId": "5d9deb40-798c-4895-b4b0-10938799d698"
      },
      "execution_count": null,
      "outputs": [
        {
          "output_type": "execute_result",
          "data": {
            "text/plain": [
              "' The average value of the sample of Serum cholesterol concentrations in male μm\\nThe average value of the sample of Serum cholesterol concentrations in female μf\\n Null hypotheses H0: μm = μf\\n Alternative hypotheses Ha: μm ≠ μf'"
            ],
            "application/vnd.google.colaboratory.intrinsic+json": {
              "type": "string"
            }
          },
          "metadata": {},
          "execution_count": 34
        }
      ]
    },
    {
      "cell_type": "code",
      "source": [
        "# Shapiro Test for checking Normality\n",
        "print(\"shapiro male results:\",stats.shapiro(male))\n",
        "print(\"shapiro female results:\",stats.shapiro(female))\n",
        "_,p_value_male=stats.shapiro(male)\n",
        "_,p_value_female=stats.shapiro(female)\n",
        "if p_value_male > 0.05 and p_value_female > 0.05:\n",
        "    print(\"Both male and female data appear to be normally distributed.\")\n",
        "else:\n",
        "    print(\"At least one of the datasets does not appear to be normally distributed.\")\n",
        "print(\"By the Shpiro-Wilk normality test the P-value > Alpha. So Null hypotheses can not be rejected and the data was normally distributed.\")"
      ],
      "metadata": {
        "colab": {
          "base_uri": "https://localhost:8080/"
        },
        "id": "cCTceJW9KIXf",
        "outputId": "8520ab4a-9f2f-4038-9138-899383d5abef"
      },
      "execution_count": null,
      "outputs": [
        {
          "output_type": "stream",
          "name": "stdout",
          "text": [
            "shapiro male results: ShapiroResult(statistic=0.9439237117767334, pvalue=0.6742751598358154)\n",
            "shapiro female results: ShapiroResult(statistic=0.841784656047821, pvalue=0.13486963510513306)\n",
            "Both male and female data appear to be normally distributed.\n",
            "By the Shpiro-Wilk normality test the P-value > Alpha. So Null hypotheses can not be rejected and the data was normally distributed.\n"
          ]
        }
      ]
    },
    {
      "cell_type": "markdown",
      "source": [
        "c)Data is normally distributed so independent samples t-test to compare the means of the two groups (male and female turtles)"
      ],
      "metadata": {
        "id": "AFMNM0eihOzO"
      }
    },
    {
      "cell_type": "code",
      "source": [
        "# c)\n",
        "\"\"\" This experiment has two independent data set groups: male & female\n",
        "The data are normally distributed.\n",
        "The aim was to compare the two distinct sample means.\n",
        "Two sample t-test was suitable for the above conditions.\"\"\""
      ],
      "metadata": {
        "colab": {
          "base_uri": "https://localhost:8080/",
          "height": 53
        },
        "id": "ZsqIuvqcRPGl",
        "outputId": "27339bfa-a0a9-4873-ce11-e76a0c6469eb"
      },
      "execution_count": null,
      "outputs": [
        {
          "output_type": "execute_result",
          "data": {
            "text/plain": [
              "' This experiment has two independent data set groups: male & female\\nThe data are normally distributed.\\nThe aim was to compare the two distinct sample means.\\nTwo sample t-test was suitable for the above conditions.'"
            ],
            "application/vnd.google.colaboratory.intrinsic+json": {
              "type": "string"
            }
          },
          "metadata": {},
          "execution_count": 36
        }
      ]
    },
    {
      "cell_type": "code",
      "source": [
        "print(stats.ttest_ind(male,female))\n",
        "t_stat, p_value = stats.ttest_ind(male, female)\n",
        "if p_value < 0.05:\n",
        "    print(\"Reject the null hypothesis. There is evidence that male and female turtles have different mean serum cholesterol concentrations.\")\n",
        "else:\n",
        "    print(f\"the P-value={p_value} > Alpha (0.05). There is no strong evidence to reject the null hypotheses. So, the mean of both mele and female serum cholesterol concentrations are same.\")"
      ],
      "metadata": {
        "colab": {
          "base_uri": "https://localhost:8080/"
        },
        "id": "Mlpv_mCZINnf",
        "outputId": "5ca02816-b277-4a14-f146-9b292599f737"
      },
      "execution_count": null,
      "outputs": [
        {
          "output_type": "stream",
          "name": "stdout",
          "text": [
            "Ttest_indResult(statistic=-0.6268108404512706, pvalue=0.543572996867541)\n",
            "the P-value=0.543572996867541 > Alpha (0.05). There is no strong evidence to reject the null hypotheses. So, the mean of both mele and female serum cholesterol concentrations are same.\n"
          ]
        }
      ]
    },
    {
      "cell_type": "markdown",
      "source": [
        "5 )\n",
        "In a hypothetical study to look at the relative effect of coffee and tea in exam performance of students, a group of\n",
        "students were given two sets of exams. One cup (150mL) of tea and coffee were consumed by each student before each\n",
        "exam. The marks obtained by the students after two exams are\n",
        "Exam after coffee\n",
        "72\n",
        "64\n",
        "81\n",
        "90\n",
        "73\n",
        "54\n",
        "87\n",
        "Exam after tea\n",
        "75\n",
        "64\n",
        "79\n",
        "85\n",
        "82\n",
        "90\n",
        "90\n",
        "\n",
        "(a) Which statistical test will be best suited to settle the question?\n",
        "\n",
        "(b) What are the assumptions you need to check before you perform the test?\n",
        "\n",
        "(c) Perform the test using R and report your results."
      ],
      "metadata": {
        "id": "fXiCuKcWXxsE"
      }
    },
    {
      "cell_type": "code",
      "source": [
        "exam_after_coffee=np.array([72,64,81,90,73,54,87])\n",
        "exam_after_tea=np.array([75,64,79,85,82,90,90])"
      ],
      "metadata": {
        "id": "C3KQfSlHY64B"
      },
      "execution_count": null,
      "outputs": []
    },
    {
      "cell_type": "markdown",
      "source": [
        "a) Paired T Test"
      ],
      "metadata": {
        "id": "l_Mt41ypYg2W"
      }
    },
    {
      "cell_type": "code",
      "source": [
        "#a)\n",
        "\"\"\" The same group of students gave the two sets of exams in the two different situations. The two different\n",
        "situations involved consuming tea or coffee before the exam. The given data looks suitable for a paired\n",
        "sample t-test.\"\"\""
      ],
      "metadata": {
        "colab": {
          "base_uri": "https://localhost:8080/",
          "height": 53
        },
        "id": "9gUpuaUHRjM0",
        "outputId": "98003c07-3f46-46f5-b437-7141a714d682"
      },
      "execution_count": null,
      "outputs": [
        {
          "output_type": "execute_result",
          "data": {
            "text/plain": [
              "' The same group of students gave the two sets of exams in the two different situations. The two different\\nsituations involved consuming tea or coffee before the exam. The given data looks suitable for a paired\\nsample t-test.'"
            ],
            "application/vnd.google.colaboratory.intrinsic+json": {
              "type": "string"
            }
          },
          "metadata": {},
          "execution_count": 39
        }
      ]
    },
    {
      "cell_type": "markdown",
      "source": [
        "b) checking for assumptions Normality and equal variance\n",
        "\n",
        "H0: variances are equal or Normaly distibuted\n",
        "\n",
        "H1: variances are not equal or skewed distibuted"
      ],
      "metadata": {
        "id": "EBWrCALUbciL"
      }
    },
    {
      "cell_type": "code",
      "source": [
        "# Shapiro Test for checking Normality\n",
        "print(stats.shapiro(exam_after_coffee))\n",
        "print(stats.shapiro(exam_after_tea))\n",
        "_,p_value_coffee=stats.shapiro(exam_after_coffee)\n",
        "_,p_value_tea=stats.shapiro(exam_after_tea)\n",
        "if p_value_coffee > 0.05 and p_value_tea > 0.05:\n",
        "    print(\"Both exam_after_coffee and exam after tea data appear to be normally distributed.\")\n",
        "else:\n",
        "    print(\"At least one of the datasets does not appear to be normally distributed.\")\n",
        "print(\"By the Shpiro-Wilk normality test the P-value > Alpha. So Null hypotheses can not be rejected and the data was normally distributed.\")"
      ],
      "metadata": {
        "colab": {
          "base_uri": "https://localhost:8080/"
        },
        "id": "43n-ZwKfbCp-",
        "outputId": "875adf63-80ee-4970-e4ab-3087f84168a2"
      },
      "execution_count": null,
      "outputs": [
        {
          "output_type": "stream",
          "name": "stdout",
          "text": [
            "ShapiroResult(statistic=0.9621812105178833, pvalue=0.8372160792350769)\n",
            "ShapiroResult(statistic=0.918850302696228, pvalue=0.46051329374313354)\n",
            "Both exam_after_coffee and exam after tea data appear to be normally distributed.\n",
            "By the Shpiro-Wilk normality test the P-value > Alpha. So Null hypotheses can not be rejected and the data was normally distributed.\n"
          ]
        }
      ]
    },
    {
      "cell_type": "code",
      "source": [
        "# Levene Test for checking Variance\n",
        "stats.levene(exam_after_coffee,exam_after_tea)\n"
      ],
      "metadata": {
        "colab": {
          "base_uri": "https://localhost:8080/"
        },
        "id": "1MzNaoQYYHyW",
        "outputId": "d7ae41e0-18e9-4753-865b-4fa9c0fd2adf"
      },
      "execution_count": null,
      "outputs": [
        {
          "output_type": "execute_result",
          "data": {
            "text/plain": [
              "LeveneResult(statistic=0.7067307692307687, pvalue=0.4169679986979009)"
            ]
          },
          "metadata": {},
          "execution_count": 40
        }
      ]
    },
    {
      "cell_type": "code",
      "source": [
        "#b)\n",
        "\"\"\"The paired observations should be independent of each other.\n",
        "• The variance of the pairs was approximately equal, and the data were considered normally\n",
        "distributed.\"\"\""
      ],
      "metadata": {
        "colab": {
          "base_uri": "https://localhost:8080/",
          "height": 53
        },
        "id": "ge2Nx8EOR5Fr",
        "outputId": "230273f0-bf76-46e7-e5ad-506899fd2bb9"
      },
      "execution_count": null,
      "outputs": [
        {
          "output_type": "execute_result",
          "data": {
            "text/plain": [
              "'The paired observations should be independent of each other.\\n• The variance of the pairs was approximately equal, and the data were considered normally\\ndistributed.'"
            ],
            "application/vnd.google.colaboratory.intrinsic+json": {
              "type": "string"
            }
          },
          "metadata": {},
          "execution_count": 41
        }
      ]
    },
    {
      "cell_type": "markdown",
      "source": [
        "H0: There is No difference in the effects of coffee and tea on the exam performance\n",
        "\n",
        "H1: There is difference in the effects of coffee and tea on the exam performance"
      ],
      "metadata": {
        "id": "Babrfoaedgx6"
      }
    },
    {
      "cell_type": "code",
      "source": [
        "#c)\n",
        "\"\"\"The average value of the sample of exam after coffee μc\n",
        " The average value of the sample of exam after tea μt\n",
        " Null hypotheses H0: (μc - μt) = 0\n",
        " Alternative hypotheses Ha: (μm - μf) ≠ 0\"\"\""
      ],
      "metadata": {
        "colab": {
          "base_uri": "https://localhost:8080/",
          "height": 53
        },
        "id": "TxHca4PsSABp",
        "outputId": "baf514ed-7073-4b7a-d970-5bee9f7d17e3"
      },
      "execution_count": null,
      "outputs": [
        {
          "output_type": "execute_result",
          "data": {
            "text/plain": [
              "'The average value of the sample of exam after coffee μc\\n The average value of the sample of exam after tea μt\\n Null hypotheses H0: (μc - μt) = 0\\n Alternative hypotheses Ha: (μm - μf) ≠ 0'"
            ],
            "application/vnd.google.colaboratory.intrinsic+json": {
              "type": "string"
            }
          },
          "metadata": {},
          "execution_count": 42
        }
      ]
    },
    {
      "cell_type": "code",
      "source": [
        "print(stats.ttest_rel(exam_after_coffee, exam_after_tea))\n",
        "t_stat, p_value = stats.ttest_rel(exam_after_coffee, exam_after_tea)\n",
        "if p_value < 0.05:\n",
        "    print(\"Reject the null hypothesis. There is evidence that coffee and tea have different effects on exam performance.\")\n",
        "else:\n",
        "    print(f\"The P-value={p_value} > Alpha (0.05). Null hypotheses cannot be rejected. There is no significant difference between the means of the students’ exams after the coffee and after the tea.\")"
      ],
      "metadata": {
        "colab": {
          "base_uri": "https://localhost:8080/"
        },
        "id": "dQQSLSmrcoOE",
        "outputId": "543c12ce-04a3-4fab-e5a2-7b3320ba65ca"
      },
      "execution_count": null,
      "outputs": [
        {
          "output_type": "stream",
          "name": "stdout",
          "text": [
            "TtestResult(statistic=-1.2025868531803559, pvalue=0.27443586794212094, df=6)\n",
            "The P-value=0.27443586794212094 > Alpha (0.05). Null hypotheses cannot be rejected. There is no significant difference between the means of the students’ exams after the coffee and after the tea.\n"
          ]
        }
      ]
    },
    {
      "cell_type": "markdown",
      "source": [],
      "metadata": {
        "id": "5bEFdrubcjkU"
      }
    },
    {
      "cell_type": "markdown",
      "source": [
        "6)Following are the marks (out of 100) obtained by the students from BME and rest-of-the-world in the BM5033 course\n",
        "last year.\n",
        "\n",
        "\n",
        "• BME: 78.49, 58.25, 76.33, 75.39, 73.00, 83.62, 67.81, 72.84, 82.02, 77.64, 71.44, 61.54, 66.20, 47.35, 82.45, 81.11,\n",
        "72.84, 77.09, 69.41, 76.14, 72.05, 78.43, 59.73, 71.60, 82.22\n",
        "\n",
        "\n",
        "• non-BME: 82.81, 78.36, 71.43, 55.71, 85.42, 26.17, 59.20, 62.38, 57.35, 70.45, 66.53, 74.57, 77.74, 73.85, 83.07,\n",
        "83.66, 84.64, 85.65, 77.77, 69.47, 80.22, 74.72, 77.79\n",
        "\n",
        "(a) Summarize the data with appropriate measures. (5)\n",
        "\n",
        "\n",
        "(b) Which group performed better? (5)\n",
        "\n",
        "(c) Assuming these two groups to be two random samples of BME and non-BME students, does having a BME\n",
        "background help in scoring higher marks in BM5033? (15)"
      ],
      "metadata": {
        "id": "MKbPUXUCK-yS"
      }
    },
    {
      "cell_type": "code",
      "source": [
        "import pandas as pd\n",
        "from scipy import stats\n",
        "BME=pd.DataFrame([78.49, 58.25, 76.33, 75.39, 73.00, 83.62, 67.81, 72.84, 82.02, 77.64, 71.44, 61.54, 66.20, 47.35, 82.45, 81.11,\n",
        "72.84, 77.09, 69.41, 76.14, 72.05, 78.43, 59.73, 71.60, 82.22])\n",
        "NonBME=pd.DataFrame([82.81, 78.36, 71.43, 55.71, 85.42, 26.17, 59.20, 62.38, 57.35, 70.45, 66.53, 74.57, 77.74, 73.85, 83.07,\n",
        "83.66, 84.64, 85.65, 77.77, 69.47, 80.22, 74.72, 77.79])"
      ],
      "metadata": {
        "id": "5RKtnV-4nUSC"
      },
      "execution_count": null,
      "outputs": []
    },
    {
      "cell_type": "code",
      "source": [
        "BME.describe()"
      ],
      "metadata": {
        "colab": {
          "base_uri": "https://localhost:8080/",
          "height": 300
        },
        "id": "1B4V0pcj7Gar",
        "outputId": "c4fe8fe0-2a39-42cf-bc87-507d3a8f78ff"
      },
      "execution_count": null,
      "outputs": [
        {
          "output_type": "execute_result",
          "data": {
            "text/plain": [
              "               0\n",
              "count  25.000000\n",
              "mean   72.599600\n",
              "std     8.729939\n",
              "min    47.350000\n",
              "25%    69.410000\n",
              "50%    73.000000\n",
              "75%    78.430000\n",
              "max    83.620000"
            ],
            "text/html": [
              "\n",
              "  <div id=\"df-22409b86-1b65-4755-b651-a0924c3f6eb0\" class=\"colab-df-container\">\n",
              "    <div>\n",
              "<style scoped>\n",
              "    .dataframe tbody tr th:only-of-type {\n",
              "        vertical-align: middle;\n",
              "    }\n",
              "\n",
              "    .dataframe tbody tr th {\n",
              "        vertical-align: top;\n",
              "    }\n",
              "\n",
              "    .dataframe thead th {\n",
              "        text-align: right;\n",
              "    }\n",
              "</style>\n",
              "<table border=\"1\" class=\"dataframe\">\n",
              "  <thead>\n",
              "    <tr style=\"text-align: right;\">\n",
              "      <th></th>\n",
              "      <th>0</th>\n",
              "    </tr>\n",
              "  </thead>\n",
              "  <tbody>\n",
              "    <tr>\n",
              "      <th>count</th>\n",
              "      <td>25.000000</td>\n",
              "    </tr>\n",
              "    <tr>\n",
              "      <th>mean</th>\n",
              "      <td>72.599600</td>\n",
              "    </tr>\n",
              "    <tr>\n",
              "      <th>std</th>\n",
              "      <td>8.729939</td>\n",
              "    </tr>\n",
              "    <tr>\n",
              "      <th>min</th>\n",
              "      <td>47.350000</td>\n",
              "    </tr>\n",
              "    <tr>\n",
              "      <th>25%</th>\n",
              "      <td>69.410000</td>\n",
              "    </tr>\n",
              "    <tr>\n",
              "      <th>50%</th>\n",
              "      <td>73.000000</td>\n",
              "    </tr>\n",
              "    <tr>\n",
              "      <th>75%</th>\n",
              "      <td>78.430000</td>\n",
              "    </tr>\n",
              "    <tr>\n",
              "      <th>max</th>\n",
              "      <td>83.620000</td>\n",
              "    </tr>\n",
              "  </tbody>\n",
              "</table>\n",
              "</div>\n",
              "    <div class=\"colab-df-buttons\">\n",
              "\n",
              "  <div class=\"colab-df-container\">\n",
              "    <button class=\"colab-df-convert\" onclick=\"convertToInteractive('df-22409b86-1b65-4755-b651-a0924c3f6eb0')\"\n",
              "            title=\"Convert this dataframe to an interactive table.\"\n",
              "            style=\"display:none;\">\n",
              "\n",
              "  <svg xmlns=\"http://www.w3.org/2000/svg\" height=\"24px\" viewBox=\"0 -960 960 960\">\n",
              "    <path d=\"M120-120v-720h720v720H120Zm60-500h600v-160H180v160Zm220 220h160v-160H400v160Zm0 220h160v-160H400v160ZM180-400h160v-160H180v160Zm440 0h160v-160H620v160ZM180-180h160v-160H180v160Zm440 0h160v-160H620v160Z\"/>\n",
              "  </svg>\n",
              "    </button>\n",
              "\n",
              "  <style>\n",
              "    .colab-df-container {\n",
              "      display:flex;\n",
              "      gap: 12px;\n",
              "    }\n",
              "\n",
              "    .colab-df-convert {\n",
              "      background-color: #E8F0FE;\n",
              "      border: none;\n",
              "      border-radius: 50%;\n",
              "      cursor: pointer;\n",
              "      display: none;\n",
              "      fill: #1967D2;\n",
              "      height: 32px;\n",
              "      padding: 0 0 0 0;\n",
              "      width: 32px;\n",
              "    }\n",
              "\n",
              "    .colab-df-convert:hover {\n",
              "      background-color: #E2EBFA;\n",
              "      box-shadow: 0px 1px 2px rgba(60, 64, 67, 0.3), 0px 1px 3px 1px rgba(60, 64, 67, 0.15);\n",
              "      fill: #174EA6;\n",
              "    }\n",
              "\n",
              "    .colab-df-buttons div {\n",
              "      margin-bottom: 4px;\n",
              "    }\n",
              "\n",
              "    [theme=dark] .colab-df-convert {\n",
              "      background-color: #3B4455;\n",
              "      fill: #D2E3FC;\n",
              "    }\n",
              "\n",
              "    [theme=dark] .colab-df-convert:hover {\n",
              "      background-color: #434B5C;\n",
              "      box-shadow: 0px 1px 3px 1px rgba(0, 0, 0, 0.15);\n",
              "      filter: drop-shadow(0px 1px 2px rgba(0, 0, 0, 0.3));\n",
              "      fill: #FFFFFF;\n",
              "    }\n",
              "  </style>\n",
              "\n",
              "    <script>\n",
              "      const buttonEl =\n",
              "        document.querySelector('#df-22409b86-1b65-4755-b651-a0924c3f6eb0 button.colab-df-convert');\n",
              "      buttonEl.style.display =\n",
              "        google.colab.kernel.accessAllowed ? 'block' : 'none';\n",
              "\n",
              "      async function convertToInteractive(key) {\n",
              "        const element = document.querySelector('#df-22409b86-1b65-4755-b651-a0924c3f6eb0');\n",
              "        const dataTable =\n",
              "          await google.colab.kernel.invokeFunction('convertToInteractive',\n",
              "                                                    [key], {});\n",
              "        if (!dataTable) return;\n",
              "\n",
              "        const docLinkHtml = 'Like what you see? Visit the ' +\n",
              "          '<a target=\"_blank\" href=https://colab.research.google.com/notebooks/data_table.ipynb>data table notebook</a>'\n",
              "          + ' to learn more about interactive tables.';\n",
              "        element.innerHTML = '';\n",
              "        dataTable['output_type'] = 'display_data';\n",
              "        await google.colab.output.renderOutput(dataTable, element);\n",
              "        const docLink = document.createElement('div');\n",
              "        docLink.innerHTML = docLinkHtml;\n",
              "        element.appendChild(docLink);\n",
              "      }\n",
              "    </script>\n",
              "  </div>\n",
              "\n",
              "\n",
              "<div id=\"df-ea254ad9-c516-47a7-91fa-cca773529dfe\">\n",
              "  <button class=\"colab-df-quickchart\" onclick=\"quickchart('df-ea254ad9-c516-47a7-91fa-cca773529dfe')\"\n",
              "            title=\"Suggest charts.\"\n",
              "            style=\"display:none;\">\n",
              "\n",
              "<svg xmlns=\"http://www.w3.org/2000/svg\" height=\"24px\"viewBox=\"0 0 24 24\"\n",
              "     width=\"24px\">\n",
              "    <g>\n",
              "        <path d=\"M19 3H5c-1.1 0-2 .9-2 2v14c0 1.1.9 2 2 2h14c1.1 0 2-.9 2-2V5c0-1.1-.9-2-2-2zM9 17H7v-7h2v7zm4 0h-2V7h2v10zm4 0h-2v-4h2v4z\"/>\n",
              "    </g>\n",
              "</svg>\n",
              "  </button>\n",
              "\n",
              "<style>\n",
              "  .colab-df-quickchart {\n",
              "      --bg-color: #E8F0FE;\n",
              "      --fill-color: #1967D2;\n",
              "      --hover-bg-color: #E2EBFA;\n",
              "      --hover-fill-color: #174EA6;\n",
              "      --disabled-fill-color: #AAA;\n",
              "      --disabled-bg-color: #DDD;\n",
              "  }\n",
              "\n",
              "  [theme=dark] .colab-df-quickchart {\n",
              "      --bg-color: #3B4455;\n",
              "      --fill-color: #D2E3FC;\n",
              "      --hover-bg-color: #434B5C;\n",
              "      --hover-fill-color: #FFFFFF;\n",
              "      --disabled-bg-color: #3B4455;\n",
              "      --disabled-fill-color: #666;\n",
              "  }\n",
              "\n",
              "  .colab-df-quickchart {\n",
              "    background-color: var(--bg-color);\n",
              "    border: none;\n",
              "    border-radius: 50%;\n",
              "    cursor: pointer;\n",
              "    display: none;\n",
              "    fill: var(--fill-color);\n",
              "    height: 32px;\n",
              "    padding: 0;\n",
              "    width: 32px;\n",
              "  }\n",
              "\n",
              "  .colab-df-quickchart:hover {\n",
              "    background-color: var(--hover-bg-color);\n",
              "    box-shadow: 0 1px 2px rgba(60, 64, 67, 0.3), 0 1px 3px 1px rgba(60, 64, 67, 0.15);\n",
              "    fill: var(--button-hover-fill-color);\n",
              "  }\n",
              "\n",
              "  .colab-df-quickchart-complete:disabled,\n",
              "  .colab-df-quickchart-complete:disabled:hover {\n",
              "    background-color: var(--disabled-bg-color);\n",
              "    fill: var(--disabled-fill-color);\n",
              "    box-shadow: none;\n",
              "  }\n",
              "\n",
              "  .colab-df-spinner {\n",
              "    border: 2px solid var(--fill-color);\n",
              "    border-color: transparent;\n",
              "    border-bottom-color: var(--fill-color);\n",
              "    animation:\n",
              "      spin 1s steps(1) infinite;\n",
              "  }\n",
              "\n",
              "  @keyframes spin {\n",
              "    0% {\n",
              "      border-color: transparent;\n",
              "      border-bottom-color: var(--fill-color);\n",
              "      border-left-color: var(--fill-color);\n",
              "    }\n",
              "    20% {\n",
              "      border-color: transparent;\n",
              "      border-left-color: var(--fill-color);\n",
              "      border-top-color: var(--fill-color);\n",
              "    }\n",
              "    30% {\n",
              "      border-color: transparent;\n",
              "      border-left-color: var(--fill-color);\n",
              "      border-top-color: var(--fill-color);\n",
              "      border-right-color: var(--fill-color);\n",
              "    }\n",
              "    40% {\n",
              "      border-color: transparent;\n",
              "      border-right-color: var(--fill-color);\n",
              "      border-top-color: var(--fill-color);\n",
              "    }\n",
              "    60% {\n",
              "      border-color: transparent;\n",
              "      border-right-color: var(--fill-color);\n",
              "    }\n",
              "    80% {\n",
              "      border-color: transparent;\n",
              "      border-right-color: var(--fill-color);\n",
              "      border-bottom-color: var(--fill-color);\n",
              "    }\n",
              "    90% {\n",
              "      border-color: transparent;\n",
              "      border-bottom-color: var(--fill-color);\n",
              "    }\n",
              "  }\n",
              "</style>\n",
              "\n",
              "  <script>\n",
              "    async function quickchart(key) {\n",
              "      const quickchartButtonEl =\n",
              "        document.querySelector('#' + key + ' button');\n",
              "      quickchartButtonEl.disabled = true;  // To prevent multiple clicks.\n",
              "      quickchartButtonEl.classList.add('colab-df-spinner');\n",
              "      try {\n",
              "        const charts = await google.colab.kernel.invokeFunction(\n",
              "            'suggestCharts', [key], {});\n",
              "      } catch (error) {\n",
              "        console.error('Error during call to suggestCharts:', error);\n",
              "      }\n",
              "      quickchartButtonEl.classList.remove('colab-df-spinner');\n",
              "      quickchartButtonEl.classList.add('colab-df-quickchart-complete');\n",
              "    }\n",
              "    (() => {\n",
              "      let quickchartButtonEl =\n",
              "        document.querySelector('#df-ea254ad9-c516-47a7-91fa-cca773529dfe button');\n",
              "      quickchartButtonEl.style.display =\n",
              "        google.colab.kernel.accessAllowed ? 'block' : 'none';\n",
              "    })();\n",
              "  </script>\n",
              "</div>\n",
              "    </div>\n",
              "  </div>\n"
            ]
          },
          "metadata": {},
          "execution_count": 45
        }
      ]
    },
    {
      "cell_type": "code",
      "source": [
        "BME.var()"
      ],
      "metadata": {
        "colab": {
          "base_uri": "https://localhost:8080/"
        },
        "id": "RNO1Jc1u78AA",
        "outputId": "0a3da81d-c0f4-4ce8-aaac-8ee463503080"
      },
      "execution_count": null,
      "outputs": [
        {
          "output_type": "execute_result",
          "data": {
            "text/plain": [
              "0    76.211837\n",
              "dtype: float64"
            ]
          },
          "metadata": {},
          "execution_count": 46
        }
      ]
    },
    {
      "cell_type": "code",
      "source": [
        "NonBME.describe()"
      ],
      "metadata": {
        "colab": {
          "base_uri": "https://localhost:8080/",
          "height": 300
        },
        "id": "uJOcqYUC8cqO",
        "outputId": "5f5fa0d6-7e9e-4786-efd1-fc2a16fd25a0"
      },
      "execution_count": null,
      "outputs": [
        {
          "output_type": "execute_result",
          "data": {
            "text/plain": [
              "               0\n",
              "count  23.000000\n",
              "mean   72.128696\n",
              "std    13.487674\n",
              "min    26.170000\n",
              "25%    68.000000\n",
              "50%    74.720000\n",
              "75%    81.515000\n",
              "max    85.650000"
            ],
            "text/html": [
              "\n",
              "  <div id=\"df-cd29e38a-a69b-46a0-972f-dbf38a4f1d75\" class=\"colab-df-container\">\n",
              "    <div>\n",
              "<style scoped>\n",
              "    .dataframe tbody tr th:only-of-type {\n",
              "        vertical-align: middle;\n",
              "    }\n",
              "\n",
              "    .dataframe tbody tr th {\n",
              "        vertical-align: top;\n",
              "    }\n",
              "\n",
              "    .dataframe thead th {\n",
              "        text-align: right;\n",
              "    }\n",
              "</style>\n",
              "<table border=\"1\" class=\"dataframe\">\n",
              "  <thead>\n",
              "    <tr style=\"text-align: right;\">\n",
              "      <th></th>\n",
              "      <th>0</th>\n",
              "    </tr>\n",
              "  </thead>\n",
              "  <tbody>\n",
              "    <tr>\n",
              "      <th>count</th>\n",
              "      <td>23.000000</td>\n",
              "    </tr>\n",
              "    <tr>\n",
              "      <th>mean</th>\n",
              "      <td>72.128696</td>\n",
              "    </tr>\n",
              "    <tr>\n",
              "      <th>std</th>\n",
              "      <td>13.487674</td>\n",
              "    </tr>\n",
              "    <tr>\n",
              "      <th>min</th>\n",
              "      <td>26.170000</td>\n",
              "    </tr>\n",
              "    <tr>\n",
              "      <th>25%</th>\n",
              "      <td>68.000000</td>\n",
              "    </tr>\n",
              "    <tr>\n",
              "      <th>50%</th>\n",
              "      <td>74.720000</td>\n",
              "    </tr>\n",
              "    <tr>\n",
              "      <th>75%</th>\n",
              "      <td>81.515000</td>\n",
              "    </tr>\n",
              "    <tr>\n",
              "      <th>max</th>\n",
              "      <td>85.650000</td>\n",
              "    </tr>\n",
              "  </tbody>\n",
              "</table>\n",
              "</div>\n",
              "    <div class=\"colab-df-buttons\">\n",
              "\n",
              "  <div class=\"colab-df-container\">\n",
              "    <button class=\"colab-df-convert\" onclick=\"convertToInteractive('df-cd29e38a-a69b-46a0-972f-dbf38a4f1d75')\"\n",
              "            title=\"Convert this dataframe to an interactive table.\"\n",
              "            style=\"display:none;\">\n",
              "\n",
              "  <svg xmlns=\"http://www.w3.org/2000/svg\" height=\"24px\" viewBox=\"0 -960 960 960\">\n",
              "    <path d=\"M120-120v-720h720v720H120Zm60-500h600v-160H180v160Zm220 220h160v-160H400v160Zm0 220h160v-160H400v160ZM180-400h160v-160H180v160Zm440 0h160v-160H620v160ZM180-180h160v-160H180v160Zm440 0h160v-160H620v160Z\"/>\n",
              "  </svg>\n",
              "    </button>\n",
              "\n",
              "  <style>\n",
              "    .colab-df-container {\n",
              "      display:flex;\n",
              "      gap: 12px;\n",
              "    }\n",
              "\n",
              "    .colab-df-convert {\n",
              "      background-color: #E8F0FE;\n",
              "      border: none;\n",
              "      border-radius: 50%;\n",
              "      cursor: pointer;\n",
              "      display: none;\n",
              "      fill: #1967D2;\n",
              "      height: 32px;\n",
              "      padding: 0 0 0 0;\n",
              "      width: 32px;\n",
              "    }\n",
              "\n",
              "    .colab-df-convert:hover {\n",
              "      background-color: #E2EBFA;\n",
              "      box-shadow: 0px 1px 2px rgba(60, 64, 67, 0.3), 0px 1px 3px 1px rgba(60, 64, 67, 0.15);\n",
              "      fill: #174EA6;\n",
              "    }\n",
              "\n",
              "    .colab-df-buttons div {\n",
              "      margin-bottom: 4px;\n",
              "    }\n",
              "\n",
              "    [theme=dark] .colab-df-convert {\n",
              "      background-color: #3B4455;\n",
              "      fill: #D2E3FC;\n",
              "    }\n",
              "\n",
              "    [theme=dark] .colab-df-convert:hover {\n",
              "      background-color: #434B5C;\n",
              "      box-shadow: 0px 1px 3px 1px rgba(0, 0, 0, 0.15);\n",
              "      filter: drop-shadow(0px 1px 2px rgba(0, 0, 0, 0.3));\n",
              "      fill: #FFFFFF;\n",
              "    }\n",
              "  </style>\n",
              "\n",
              "    <script>\n",
              "      const buttonEl =\n",
              "        document.querySelector('#df-cd29e38a-a69b-46a0-972f-dbf38a4f1d75 button.colab-df-convert');\n",
              "      buttonEl.style.display =\n",
              "        google.colab.kernel.accessAllowed ? 'block' : 'none';\n",
              "\n",
              "      async function convertToInteractive(key) {\n",
              "        const element = document.querySelector('#df-cd29e38a-a69b-46a0-972f-dbf38a4f1d75');\n",
              "        const dataTable =\n",
              "          await google.colab.kernel.invokeFunction('convertToInteractive',\n",
              "                                                    [key], {});\n",
              "        if (!dataTable) return;\n",
              "\n",
              "        const docLinkHtml = 'Like what you see? Visit the ' +\n",
              "          '<a target=\"_blank\" href=https://colab.research.google.com/notebooks/data_table.ipynb>data table notebook</a>'\n",
              "          + ' to learn more about interactive tables.';\n",
              "        element.innerHTML = '';\n",
              "        dataTable['output_type'] = 'display_data';\n",
              "        await google.colab.output.renderOutput(dataTable, element);\n",
              "        const docLink = document.createElement('div');\n",
              "        docLink.innerHTML = docLinkHtml;\n",
              "        element.appendChild(docLink);\n",
              "      }\n",
              "    </script>\n",
              "  </div>\n",
              "\n",
              "\n",
              "<div id=\"df-919c1cda-c2a0-403a-82e5-fd16324e2047\">\n",
              "  <button class=\"colab-df-quickchart\" onclick=\"quickchart('df-919c1cda-c2a0-403a-82e5-fd16324e2047')\"\n",
              "            title=\"Suggest charts.\"\n",
              "            style=\"display:none;\">\n",
              "\n",
              "<svg xmlns=\"http://www.w3.org/2000/svg\" height=\"24px\"viewBox=\"0 0 24 24\"\n",
              "     width=\"24px\">\n",
              "    <g>\n",
              "        <path d=\"M19 3H5c-1.1 0-2 .9-2 2v14c0 1.1.9 2 2 2h14c1.1 0 2-.9 2-2V5c0-1.1-.9-2-2-2zM9 17H7v-7h2v7zm4 0h-2V7h2v10zm4 0h-2v-4h2v4z\"/>\n",
              "    </g>\n",
              "</svg>\n",
              "  </button>\n",
              "\n",
              "<style>\n",
              "  .colab-df-quickchart {\n",
              "      --bg-color: #E8F0FE;\n",
              "      --fill-color: #1967D2;\n",
              "      --hover-bg-color: #E2EBFA;\n",
              "      --hover-fill-color: #174EA6;\n",
              "      --disabled-fill-color: #AAA;\n",
              "      --disabled-bg-color: #DDD;\n",
              "  }\n",
              "\n",
              "  [theme=dark] .colab-df-quickchart {\n",
              "      --bg-color: #3B4455;\n",
              "      --fill-color: #D2E3FC;\n",
              "      --hover-bg-color: #434B5C;\n",
              "      --hover-fill-color: #FFFFFF;\n",
              "      --disabled-bg-color: #3B4455;\n",
              "      --disabled-fill-color: #666;\n",
              "  }\n",
              "\n",
              "  .colab-df-quickchart {\n",
              "    background-color: var(--bg-color);\n",
              "    border: none;\n",
              "    border-radius: 50%;\n",
              "    cursor: pointer;\n",
              "    display: none;\n",
              "    fill: var(--fill-color);\n",
              "    height: 32px;\n",
              "    padding: 0;\n",
              "    width: 32px;\n",
              "  }\n",
              "\n",
              "  .colab-df-quickchart:hover {\n",
              "    background-color: var(--hover-bg-color);\n",
              "    box-shadow: 0 1px 2px rgba(60, 64, 67, 0.3), 0 1px 3px 1px rgba(60, 64, 67, 0.15);\n",
              "    fill: var(--button-hover-fill-color);\n",
              "  }\n",
              "\n",
              "  .colab-df-quickchart-complete:disabled,\n",
              "  .colab-df-quickchart-complete:disabled:hover {\n",
              "    background-color: var(--disabled-bg-color);\n",
              "    fill: var(--disabled-fill-color);\n",
              "    box-shadow: none;\n",
              "  }\n",
              "\n",
              "  .colab-df-spinner {\n",
              "    border: 2px solid var(--fill-color);\n",
              "    border-color: transparent;\n",
              "    border-bottom-color: var(--fill-color);\n",
              "    animation:\n",
              "      spin 1s steps(1) infinite;\n",
              "  }\n",
              "\n",
              "  @keyframes spin {\n",
              "    0% {\n",
              "      border-color: transparent;\n",
              "      border-bottom-color: var(--fill-color);\n",
              "      border-left-color: var(--fill-color);\n",
              "    }\n",
              "    20% {\n",
              "      border-color: transparent;\n",
              "      border-left-color: var(--fill-color);\n",
              "      border-top-color: var(--fill-color);\n",
              "    }\n",
              "    30% {\n",
              "      border-color: transparent;\n",
              "      border-left-color: var(--fill-color);\n",
              "      border-top-color: var(--fill-color);\n",
              "      border-right-color: var(--fill-color);\n",
              "    }\n",
              "    40% {\n",
              "      border-color: transparent;\n",
              "      border-right-color: var(--fill-color);\n",
              "      border-top-color: var(--fill-color);\n",
              "    }\n",
              "    60% {\n",
              "      border-color: transparent;\n",
              "      border-right-color: var(--fill-color);\n",
              "    }\n",
              "    80% {\n",
              "      border-color: transparent;\n",
              "      border-right-color: var(--fill-color);\n",
              "      border-bottom-color: var(--fill-color);\n",
              "    }\n",
              "    90% {\n",
              "      border-color: transparent;\n",
              "      border-bottom-color: var(--fill-color);\n",
              "    }\n",
              "  }\n",
              "</style>\n",
              "\n",
              "  <script>\n",
              "    async function quickchart(key) {\n",
              "      const quickchartButtonEl =\n",
              "        document.querySelector('#' + key + ' button');\n",
              "      quickchartButtonEl.disabled = true;  // To prevent multiple clicks.\n",
              "      quickchartButtonEl.classList.add('colab-df-spinner');\n",
              "      try {\n",
              "        const charts = await google.colab.kernel.invokeFunction(\n",
              "            'suggestCharts', [key], {});\n",
              "      } catch (error) {\n",
              "        console.error('Error during call to suggestCharts:', error);\n",
              "      }\n",
              "      quickchartButtonEl.classList.remove('colab-df-spinner');\n",
              "      quickchartButtonEl.classList.add('colab-df-quickchart-complete');\n",
              "    }\n",
              "    (() => {\n",
              "      let quickchartButtonEl =\n",
              "        document.querySelector('#df-919c1cda-c2a0-403a-82e5-fd16324e2047 button');\n",
              "      quickchartButtonEl.style.display =\n",
              "        google.colab.kernel.accessAllowed ? 'block' : 'none';\n",
              "    })();\n",
              "  </script>\n",
              "</div>\n",
              "    </div>\n",
              "  </div>\n"
            ]
          },
          "metadata": {},
          "execution_count": 47
        }
      ]
    },
    {
      "cell_type": "code",
      "source": [
        "NonBME.var()"
      ],
      "metadata": {
        "colab": {
          "base_uri": "https://localhost:8080/"
        },
        "id": "euh3uVUm8BL7",
        "outputId": "b2f4ade7-8306-44ed-ab40-9a192b324e3b"
      },
      "execution_count": null,
      "outputs": [
        {
          "output_type": "execute_result",
          "data": {
            "text/plain": [
              "0    181.917348\n",
              "dtype: float64"
            ]
          },
          "metadata": {},
          "execution_count": 48
        }
      ]
    },
    {
      "cell_type": "code",
      "source": [
        "#b) checking for which group is better performed\n",
        "if int(BME.mean()>NonBME.mean()):\n",
        "  print(\"BME performed Better\")\n",
        "else:\n",
        "  print(\"Non BME group Performed Better\")"
      ],
      "metadata": {
        "colab": {
          "base_uri": "https://localhost:8080/"
        },
        "id": "ag2P-rcsD_x8",
        "outputId": "dc282d16-233b-4d06-9276-1f505eccdb36"
      },
      "execution_count": null,
      "outputs": [
        {
          "output_type": "stream",
          "name": "stdout",
          "text": [
            "BME performed Better\n"
          ]
        }
      ]
    },
    {
      "cell_type": "markdown",
      "source": [
        "NULL Hypothesis(H0): is that there is no difference in mean marks between the two groups (BME and :non-BME).                                                                                                                                            \n",
        "Alternative Hypothesis (H1): is that there is a difference.\n",
        "\n"
      ],
      "metadata": {
        "id": "ZcHv4nZ4Ctow"
      }
    },
    {
      "cell_type": "code",
      "source": [
        "#c)\n",
        "\"\"\"Mean meaks of BME Students μBME\n",
        " The mean of Non-BME Students μNon-BME\n",
        " Null hypotheses H0: μBME = μNon-BME\n",
        " Alternative hypotheses Ha: μBME ≠ μNon-BME\"\"\""
      ],
      "metadata": {
        "colab": {
          "base_uri": "https://localhost:8080/",
          "height": 53
        },
        "id": "g90w3jY6SSk_",
        "outputId": "64d06659-90a2-4c24-9447-5875cb6280d9"
      },
      "execution_count": null,
      "outputs": [
        {
          "output_type": "execute_result",
          "data": {
            "text/plain": [
              "'Mean meaks of BME Students μBME\\n The mean of Non-BME Students μNon-BME\\n Null hypotheses H0: μBME = μNon-BME\\n Alternative hypotheses Ha: μBME ≠ μNon-BME'"
            ],
            "application/vnd.google.colaboratory.intrinsic+json": {
              "type": "string"
            }
          },
          "metadata": {},
          "execution_count": 50
        }
      ]
    },
    {
      "cell_type": "code",
      "source": [
        "print(stats.ttest_ind(BME, NonBME))\n",
        "t_stat, p_value = stats.ttest_ind(BME, NonBME)\n",
        "t_stat,p_value"
      ],
      "metadata": {
        "colab": {
          "base_uri": "https://localhost:8080/"
        },
        "id": "0qj00vBOCAZo",
        "outputId": "7d598dde-7263-46d5-f73c-dcf6e62b224f"
      },
      "execution_count": null,
      "outputs": [
        {
          "output_type": "stream",
          "name": "stdout",
          "text": [
            "Ttest_indResult(statistic=array([0.14475831]), pvalue=array([0.8855341]))\n"
          ]
        },
        {
          "output_type": "execute_result",
          "data": {
            "text/plain": [
              "(array([0.14475831]), array([0.8855341]))"
            ]
          },
          "metadata": {},
          "execution_count": 51
        }
      ]
    },
    {
      "cell_type": "code",
      "source": [
        "\n",
        "if p_value < 0.05:\n",
        "    print(\"  Conclusion: Reject the null hypothesis. Having a BME background may help in scoring higher marks.\")\n",
        "else:\n",
        "    print(f\"The P-value {p_value} > Alpha (0.05). The null hypotheses were true. The BME background did not provide any help in scoring higher marks in BM5033. \")"
      ],
      "metadata": {
        "colab": {
          "base_uri": "https://localhost:8080/"
        },
        "id": "NO12rJE9DtcV",
        "outputId": "c65d762b-6974-49b4-aeec-a13a578e285b"
      },
      "execution_count": null,
      "outputs": [
        {
          "output_type": "stream",
          "name": "stdout",
          "text": [
            "The P-value [0.8855341] > Alpha (0.05). The null hypotheses were true. The BME background did not provide any help in scoring higher marks in BM5033. \n"
          ]
        }
      ]
    },
    {
      "cell_type": "code",
      "source": [],
      "metadata": {
        "id": "uL-AZ-hA-aZw"
      },
      "execution_count": null,
      "outputs": []
    },
    {
      "cell_type": "code",
      "source": [],
      "metadata": {
        "id": "ANTDBgDmdZQn"
      },
      "execution_count": null,
      "outputs": []
    }
  ]
}